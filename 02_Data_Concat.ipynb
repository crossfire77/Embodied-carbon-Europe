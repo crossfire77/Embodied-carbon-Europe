{
 "cells": [
  {
   "cell_type": "markdown",
   "metadata": {},
   "source": [
    "# Data concatenating script"
   ]
  },
  {
   "cell_type": "markdown",
   "metadata": {},
   "source": [
    "Authors: [Andreas Sørensen](https://www.linkedin.com/in/a-soerensen) and [Martin Röck](https://www.linkedin.com/in/martinroeck/) - Source: https://doi.org/10.5281/zenodo.5895051"
   ]
  },
  {
   "cell_type": "code",
   "execution_count": 1,
   "metadata": {
    "ExecuteTime": {
     "end_time": "2021-06-04T14:46:51.463440Z",
     "start_time": "2021-06-04T14:46:49.809257Z"
    }
   },
   "outputs": [],
   "source": [
    "# SETUP\n",
    "import numpy as np\n",
    "import pandas as pd\n",
    "import matplotlib.pyplot as plt\n",
    "import seaborn as sns\n",
    "import time"
   ]
  },
  {
   "cell_type": "code",
   "execution_count": null,
   "metadata": {},
   "outputs": [],
   "source": [
    "print(\"Concatenating pre-processed data from DCT, CSTB and CLF...\")"
   ]
  },
  {
   "cell_type": "markdown",
   "metadata": {},
   "source": [
    "# Import data"
   ]
  },
  {
   "cell_type": "markdown",
   "metadata": {},
   "source": [
    "Import data from csv to pandas dataframes and store them in one list"
   ]
  },
  {
   "cell_type": "code",
   "execution_count": 4,
   "metadata": {
    "ExecuteTime": {
     "end_time": "2021-06-04T14:46:51.635394Z",
     "start_time": "2021-06-04T14:46:51.482799Z"
    }
   },
   "outputs": [],
   "source": [
    "# IMPORT DATA FROM PRE-PROCESSED CSV FILES\n",
    "\n",
    "#List of csv files to be imported\n",
    "filename_list = ['DCT_processed.csv','CSTB_processed.csv','CLF_processed.csv']\n",
    "\n",
    "#Initiation of dataframe list\n",
    "df_list = []\n",
    "\n",
    "#Load csv from the data processed folder\n",
    "for filename in filename_list:\n",
    "    df = pd.read_csv('00_data/1_data_pre_processed/'+filename, delimiter = ',')\n",
    "    df_list.append(df)"
   ]
  },
  {
   "cell_type": "markdown",
   "metadata": {},
   "source": [
    "# Concatenate data and export to CSV for feature engineering"
   ]
  },
  {
   "cell_type": "code",
   "execution_count": 5,
   "metadata": {
    "ExecuteTime": {
     "end_time": "2021-06-04T14:46:51.683264Z",
     "start_time": "2021-06-04T14:46:51.639386Z"
    }
   },
   "outputs": [],
   "source": [
    "# CONCATENATE DATAFRAMES\n",
    "\n",
    "#Concatenate all dataframes in df_list in the order they are loaded\n",
    "df_concat = df_list[0].append(df_list[1:], ignore_index=True, sort=False)"
   ]
  },
  {
   "cell_type": "code",
   "execution_count": 6,
   "metadata": {
    "ExecuteTime": {
     "end_time": "2021-06-04T14:46:51.699221Z",
     "start_time": "2021-06-04T14:46:51.687259Z"
    }
   },
   "outputs": [],
   "source": [
    "#Replace NaN with 'n/a' for completeness\n",
    "df_concat.fillna('n/a',inplace=True)"
   ]
  },
  {
   "cell_type": "code",
   "execution_count": 7,
   "metadata": {
    "ExecuteTime": {
     "end_time": "2021-06-04T14:46:51.873381Z",
     "start_time": "2021-06-04T14:46:51.704209Z"
    }
   },
   "outputs": [],
   "source": [
    "#Create csv\n",
    "filename = '00_data/2_data_concatenated/EU-ECB_dataset_concatenated.csv'\n",
    "df_concat.to_csv(filename, index=False)"
   ]
  },
  {
   "cell_type": "code",
   "execution_count": null,
   "metadata": {},
   "outputs": [],
   "source": [
    "print(\"Data from DCT, CSTB and CLF concatenated.\")"
   ]
  }
 ],
 "metadata": {
  "hide_input": false,
  "kernelspec": {
   "display_name": "Python 3",
   "language": "python",
   "name": "python3"
  },
  "language_info": {
   "codemirror_mode": {
    "name": "ipython",
    "version": 3
   },
   "file_extension": ".py",
   "mimetype": "text/x-python",
   "name": "python",
   "nbconvert_exporter": "python",
   "pygments_lexer": "ipython3",
   "version": "3.8.10"
  },
  "toc": {
   "base_numbering": 1,
   "nav_menu": {},
   "number_sections": true,
   "sideBar": true,
   "skip_h1_title": false,
   "title_cell": "Table of Contents",
   "title_sidebar": "Contents",
   "toc_cell": false,
   "toc_position": {},
   "toc_section_display": true,
   "toc_window_display": false
  },
  "varInspector": {
   "cols": {
    "lenName": 16,
    "lenType": 16,
    "lenVar": 40
   },
   "kernels_config": {
    "python": {
     "delete_cmd_postfix": "",
     "delete_cmd_prefix": "del ",
     "library": "var_list.py",
     "varRefreshCmd": "print(var_dic_list())"
    },
    "r": {
     "delete_cmd_postfix": ") ",
     "delete_cmd_prefix": "rm(",
     "library": "var_list.r",
     "varRefreshCmd": "cat(var_dic_list()) "
    }
   },
   "position": {
    "height": "266px",
    "left": "1877.8px",
    "right": "20px",
    "top": "136px",
    "width": "351px"
   },
   "types_to_exclude": [
    "module",
    "function",
    "builtin_function_or_method",
    "instance",
    "_Feature"
   ],
   "window_display": true
  }
 },
 "nbformat": 4,
 "nbformat_minor": 2
}
